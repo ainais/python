{
 "cells": [
  {
   "cell_type": "code",
   "execution_count": 2,
   "id": "ade5603c",
   "metadata": {},
   "outputs": [
    {
     "name": "stdout",
     "output_type": "stream",
     "text": [
      "세계에서 가장 큰 대륙은 무엇일까요?\n",
      "1. 아시아\n",
      "2. 아프리카\n",
      "3. 유럽\n",
      "4. 남극\n",
      "답을 입력하세요: 1\n",
      "정답입니다!\n",
      "\n",
      "우리나라에서 가장 높은 산은 무엇인가요?\n",
      "1. 설악산\n",
      "2. 한라산\n",
      "3. 지리산\n",
      "4. 금강산\n",
      "답을 입력하세요: 2\n",
      "정답입니다!\n",
      "\n",
      "다음 중 대한민국의 수도는 어디인가요?\n",
      "1. 서울\n",
      "2. 부산\n",
      "3. 대구\n",
      "4. 인천\n",
      "답을 입력하세요: 1\n",
      "정답입니다!\n",
      "\n",
      "당신의 점수는 3/3입니다.\n"
     ]
    }
   ],
   "source": [
    "import random\n",
    "\n",
    "def load_quiz(file):\n",
    "    with open(file, 'r', encoding='utf-8') as f:\n",
    "        lines = f.readlines()\n",
    "    quiz = []\n",
    "    for i in range(0, len(lines), 6):\n",
    "        question = lines[i].strip()\n",
    "        options = [option.strip() for option in lines[i+1:i+5]]\n",
    "        answer = lines[i+5].strip()\n",
    "        quiz.append((question, options, answer))\n",
    "    return quiz\n",
    "\n",
    "def ask_question(question, options):\n",
    "    print(question)\n",
    "    for i, option in enumerate(options):\n",
    "        print(f'{option}')\n",
    "    answer = input('답을 입력하세요: ')\n",
    "    return answer\n",
    "\n",
    "def check_answer(answer, correct_answer):\n",
    "    if answer == correct_answer:\n",
    "        print('정답입니다!\\n')\n",
    "        return True\n",
    "    else:\n",
    "        print('틀렸습니다!\\n')\n",
    "        return False\n",
    "\n",
    "def play_quiz(quiz, totalQuiz):\n",
    "    score = 0\n",
    "    random.shuffle(quiz)\n",
    "    for i in range(totalQuiz):\n",
    "        question, options, answer = quiz[i]\n",
    "        user_answer = ask_question(question, options)\n",
    "        if check_answer(user_answer, answer):\n",
    "            score += 1\n",
    "    print(f'당신의 점수는 {score}/{totalQuiz}입니다.')\n",
    "\n",
    "if __name__ == '__main__':\n",
    "    totalQuiz = 3\n",
    "    quiz = load_quiz('quiz.txt')\n",
    "    play_quiz(quiz, totalQuiz)"
   ]
  }
 ],
 "metadata": {
  "kernelspec": {
   "display_name": "Python 3 (ipykernel)",
   "language": "python",
   "name": "python3"
  },
  "language_info": {
   "codemirror_mode": {
    "name": "ipython",
    "version": 3
   },
   "file_extension": ".py",
   "mimetype": "text/x-python",
   "name": "python",
   "nbconvert_exporter": "python",
   "pygments_lexer": "ipython3",
   "version": "3.9.13"
  }
 },
 "nbformat": 4,
 "nbformat_minor": 5
}
